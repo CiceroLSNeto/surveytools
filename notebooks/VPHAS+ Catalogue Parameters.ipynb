{
 "cells": [
  {
   "cell_type": "markdown",
   "metadata": {},
   "source": [
    "VPHAS+ Catalogue Optimization\n",
    "================\n",
    "This notebook documents how the VPHAS+ catalogue generation parameters have been optimized as a function of the internal consistency of the repeat r-band photometry."
   ]
  },
  {
   "cell_type": "code",
   "execution_count": null,
   "metadata": {
    "collapsed": false,
    "scrolled": true
   },
   "outputs": [],
   "source": [
    "from astropy import log\n",
    "log.setLevel('WARNING')\n",
    "\n",
    "from surveytools import catalogue\n",
    "\n",
    "#annulus_fwhm = [1, 2, 4, 6, 8, 10]\n",
    "annulus_fwhm = [1, 4, 8]\n",
    "r_mean, r_sigma = [], []\n",
    "for param in annulus_fwhm:\n",
    "    voc = catalogue.VphasOffsetCatalogue('0441a')\n",
    "    voc.cfg['photometry']['annulus_fwhm'] = str(param)\n",
    "    cat = voc.create_catalogue(ccdlist=[6])\n",
    "    \n",
    "    clean = cat['clean_r'] & cat['clean_r2']\n",
    "    delta = cat[clean]['r'] - cat[clean]['r2']\n",
    "    r_mean.append(np.mean(delta))\n",
    "    r_sigma.append(np.std(delta))"
   ]
  },
  {
   "cell_type": "code",
   "execution_count": 6,
   "metadata": {
    "collapsed": false
   },
   "outputs": [
    {
     "name": "stdout",
     "output_type": "stream",
     "text": [
      "[]\n"
     ]
    }
   ],
   "source": [
    "print(r_mean)"
   ]
  },
  {
   "cell_type": "code",
   "execution_count": null,
   "metadata": {
    "collapsed": true
   },
   "outputs": [],
   "source": []
  }
 ],
 "metadata": {
  "kernelspec": {
   "display_name": "Python 3",
   "language": "python",
   "name": "python3"
  },
  "language_info": {
   "codemirror_mode": {
    "name": "ipython",
    "version": 3
   },
   "file_extension": ".py",
   "mimetype": "text/x-python",
   "name": "python",
   "nbconvert_exporter": "python",
   "pygments_lexer": "ipython3",
   "version": "3.4.3"
  }
 },
 "nbformat": 4,
 "nbformat_minor": 0
}
